{
 "cells": [
  {
   "cell_type": "markdown",
   "metadata": {},
   "source": [
    "#  Contexte\n",
    "\n",
    "Les maladies cardiovasculaires (MCV) sont la première cause de décès dans le monde, faisant environ 17,9 millions de vies chaque année, ce qui représente 31 % de tous les décès dans le monde. Quatre décès sur 5 par MCV sont dus à des crises cardiaques et à des accidents vasculaires cérébraux, et un tiers de ces décès surviennent prématurément chez des personnes de moins de 70 ans. L'insuffisance cardiaque est un événement courant causé par les maladies cardiovasculaires et cet ensemble de données contient 11 caractéristiques qui peuvent être utilisées pour prédire une éventuelle maladie cardiaque. Les personnes atteintes de maladies cardiovasculaires ou à haut risque cardiovasculaire (en raison de la présence d'un ou plusieurs facteurs de risque tels que l'hypertension, le diabète, l'hyperlipidémie ou une maladie déjà établie) ont besoin d'une détection et d'une gestion précoces dans lesquelles un modèle d'apprentissage automatique peut être d'une grande aide.\n",
    "\n",
    "# Description des métadonnées\n",
    "\n",
    "AGE : âge du patient SEXE : sexe du patient [homme, femme] TDT : type de douleur thoracique [AT : angine typique, AA : angine atypique, DNA : douleur non angineuse, ASY : asymptomatique] PAR : pression artérielle au repos [mm Hg] CHOLESTEROL : cholestérol sérique [mm/dl] GAJ : glycémie à jeun [1 : si glycémie à jeun > 120 mg/dl, 0 : sinon] ECG au repos : résultats de l'électrocardiogramme au repos [Normal : normal, ST : présentant une anomalie de l'onde ST-T , HVG : montrant une hypertrophie ventriculaire gauche probable] FCMAX : fréquence cardiaque maximale atteinte ANGINE : angine induite par l'exercice [Oui, Non] DEPRESSION : Valeur numérique mesurée en dépression PENTE: la pente du segment ST d'exercice de pointe [Ascendant, Plat, Descendant] COEUR : maladie cardiaque[1 : Présence de la maladie, 0 : Absence de la maladie]"
   ]
  },
  {
   "cell_type": "code",
   "execution_count": 149,
   "metadata": {},
   "outputs": [],
   "source": [
    "import pandas as pd\n",
    "import numpy as np\n",
    "import os\n",
    "\n",
    "import matplotlib.pylab as plt\n",
    "import seaborn as sns\n",
    "sns.set()\n",
    "from sklearn.linear_model import LogisticRegression\n",
    "from sklearn.model_selection import train_test_split\n",
    "\n"
   ]
  },
  {
   "cell_type": "code",
   "execution_count": 194,
   "metadata": {},
   "outputs": [],
   "source": [
    "#changer de répertoir de travail\n",
    "os.chdir('C:\\\\Users\\Admin\\Desktop\\Docier_pandas')"
   ]
  },
  {
   "cell_type": "code",
   "execution_count": 195,
   "metadata": {},
   "outputs": [],
   "source": [
    "#lire le contenue de la data_frame\n",
    "df = pd.read_excel(r\"C:\\Users\\Admin\\Desktop\\Docier_pandas\\mcv.xlsx\") "
   ]
  },
  {
   "cell_type": "code",
   "execution_count": 196,
   "metadata": {},
   "outputs": [
    {
     "data": {
      "text/html": [
       "<div>\n",
       "<style scoped>\n",
       "    .dataframe tbody tr th:only-of-type {\n",
       "        vertical-align: middle;\n",
       "    }\n",
       "\n",
       "    .dataframe tbody tr th {\n",
       "        vertical-align: top;\n",
       "    }\n",
       "\n",
       "    .dataframe thead th {\n",
       "        text-align: right;\n",
       "    }\n",
       "</style>\n",
       "<table border=\"1\" class=\"dataframe\">\n",
       "  <thead>\n",
       "    <tr style=\"text-align: right;\">\n",
       "      <th></th>\n",
       "      <th>AGE</th>\n",
       "      <th>SEXE</th>\n",
       "      <th>TDT</th>\n",
       "      <th>PAR</th>\n",
       "      <th>CHOLESTEROL</th>\n",
       "      <th>GAJ</th>\n",
       "      <th>ECG</th>\n",
       "      <th>FCMAX</th>\n",
       "      <th>ANGINE</th>\n",
       "      <th>DEPRESSION</th>\n",
       "      <th>PENTE</th>\n",
       "      <th>CŒUR</th>\n",
       "    </tr>\n",
       "  </thead>\n",
       "  <tbody>\n",
       "    <tr>\n",
       "      <th>0</th>\n",
       "      <td>40</td>\n",
       "      <td>homme</td>\n",
       "      <td>AA</td>\n",
       "      <td>140</td>\n",
       "      <td>289</td>\n",
       "      <td>0</td>\n",
       "      <td>Normal</td>\n",
       "      <td>172</td>\n",
       "      <td>Non</td>\n",
       "      <td>0.0</td>\n",
       "      <td>Ascendant</td>\n",
       "      <td>0</td>\n",
       "    </tr>\n",
       "    <tr>\n",
       "      <th>1</th>\n",
       "      <td>49</td>\n",
       "      <td>femme</td>\n",
       "      <td>DNA</td>\n",
       "      <td>160</td>\n",
       "      <td>180</td>\n",
       "      <td>0</td>\n",
       "      <td>Normal</td>\n",
       "      <td>156</td>\n",
       "      <td>Non</td>\n",
       "      <td>1.0</td>\n",
       "      <td>Plat</td>\n",
       "      <td>1</td>\n",
       "    </tr>\n",
       "    <tr>\n",
       "      <th>2</th>\n",
       "      <td>37</td>\n",
       "      <td>homme</td>\n",
       "      <td>AA</td>\n",
       "      <td>130</td>\n",
       "      <td>283</td>\n",
       "      <td>0</td>\n",
       "      <td>ST</td>\n",
       "      <td>98</td>\n",
       "      <td>Non</td>\n",
       "      <td>0.0</td>\n",
       "      <td>Ascendant</td>\n",
       "      <td>0</td>\n",
       "    </tr>\n",
       "    <tr>\n",
       "      <th>3</th>\n",
       "      <td>48</td>\n",
       "      <td>femme</td>\n",
       "      <td>ASY</td>\n",
       "      <td>138</td>\n",
       "      <td>214</td>\n",
       "      <td>0</td>\n",
       "      <td>Normal</td>\n",
       "      <td>108</td>\n",
       "      <td>Oui</td>\n",
       "      <td>1.5</td>\n",
       "      <td>Plat</td>\n",
       "      <td>1</td>\n",
       "    </tr>\n",
       "    <tr>\n",
       "      <th>4</th>\n",
       "      <td>54</td>\n",
       "      <td>homme</td>\n",
       "      <td>DNA</td>\n",
       "      <td>150</td>\n",
       "      <td>195</td>\n",
       "      <td>0</td>\n",
       "      <td>Normal</td>\n",
       "      <td>122</td>\n",
       "      <td>Non</td>\n",
       "      <td>0.0</td>\n",
       "      <td>Ascendant</td>\n",
       "      <td>0</td>\n",
       "    </tr>\n",
       "  </tbody>\n",
       "</table>\n",
       "</div>"
      ],
      "text/plain": [
       "   AGE   SEXE  TDT  PAR  CHOLESTEROL  GAJ     ECG  FCMAX ANGINE  DEPRESSION   \\\n",
       "0   40  homme   AA  140          289    0  Normal    172    Non          0.0   \n",
       "1   49  femme  DNA  160          180    0  Normal    156    Non          1.0   \n",
       "2   37  homme   AA  130          283    0      ST     98    Non          0.0   \n",
       "3   48  femme  ASY  138          214    0  Normal    108    Oui          1.5   \n",
       "4   54  homme  DNA  150          195    0  Normal    122    Non          0.0   \n",
       "\n",
       "       PENTE  CŒUR  \n",
       "0  Ascendant     0  \n",
       "1       Plat     1  \n",
       "2  Ascendant     0  \n",
       "3       Plat     1  \n",
       "4  Ascendant     0  "
      ]
     },
     "execution_count": 196,
     "metadata": {},
     "output_type": "execute_result"
    }
   ],
   "source": [
    "df.head()"
   ]
  },
  {
   "cell_type": "code",
   "execution_count": 128,
   "metadata": {},
   "outputs": [
    {
     "name": "stdout",
     "output_type": "stream",
     "text": [
      "<class 'pandas.core.frame.DataFrame'>\n",
      "RangeIndex: 918 entries, 0 to 917\n",
      "Data columns (total 12 columns):\n",
      " #   Column       Non-Null Count  Dtype  \n",
      "---  ------       --------------  -----  \n",
      " 0   AGE          918 non-null    int64  \n",
      " 1   SEXE         918 non-null    object \n",
      " 2   TDT          918 non-null    object \n",
      " 3   PAR          918 non-null    int64  \n",
      " 4   CHOLESTEROL  918 non-null    int64  \n",
      " 5   GAJ          918 non-null    int64  \n",
      " 6   ECG          918 non-null    object \n",
      " 7   FCMAX        918 non-null    int64  \n",
      " 8   ANGINE       918 non-null    object \n",
      " 9   DEPRESSION   918 non-null    float64\n",
      " 10  PENTE        918 non-null    object \n",
      " 11  CŒUR         918 non-null    int64  \n",
      "dtypes: float64(1), int64(6), object(5)\n",
      "memory usage: 86.2+ KB\n"
     ]
    }
   ],
   "source": [
    "df.info()"
   ]
  },
  {
   "cell_type": "code",
   "execution_count": 10,
   "metadata": {},
   "outputs": [
    {
     "data": {
      "text/plain": [
       "(918, 12)"
      ]
     },
     "execution_count": 10,
     "metadata": {},
     "output_type": "execute_result"
    }
   ],
   "source": [
    "df.shape"
   ]
  },
  {
   "cell_type": "code",
   "execution_count": null,
   "metadata": {},
   "outputs": [],
   "source": [
    "AGE,"
   ]
  },
  {
   "cell_type": "code",
   "execution_count": 8,
   "metadata": {},
   "outputs": [],
   "source": [
    "#notre df contient 12 variables (12 colones et 918 lignes)"
   ]
  },
  {
   "cell_type": "code",
   "execution_count": 9,
   "metadata": {},
   "outputs": [
    {
     "data": {
      "text/plain": [
       "AGE            0\n",
       "SEXE           0\n",
       "TDT            0\n",
       "PAR            0\n",
       "CHOLESTEROL    0\n",
       "GAJ            0\n",
       "ECG            0\n",
       "FCMAX          0\n",
       "ANGINE         0\n",
       "DEPRESSION     0\n",
       "PENTE          0\n",
       "CŒUR           0\n",
       "dtype: int64"
      ]
     },
     "execution_count": 9,
     "metadata": {},
     "output_type": "execute_result"
    }
   ],
   "source": [
    "df.isna().sum()"
   ]
  },
  {
   "cell_type": "markdown",
   "metadata": {},
   "source": [
    "# Preprocessing"
   ]
  },
  {
   "cell_type": "code",
   "execution_count": 25,
   "metadata": {},
   "outputs": [],
   "source": [
    "#Encodage des variables qualitatives"
   ]
  },
  {
   "cell_type": "code",
   "execution_count": 197,
   "metadata": {},
   "outputs": [],
   "source": [
    "df_copie = df"
   ]
  },
  {
   "cell_type": "code",
   "execution_count": 198,
   "metadata": {},
   "outputs": [],
   "source": [
    "df_quali = df_copie.select_dtypes(object)"
   ]
  },
  {
   "cell_type": "code",
   "execution_count": 199,
   "metadata": {},
   "outputs": [
    {
     "data": {
      "text/html": [
       "<div>\n",
       "<style scoped>\n",
       "    .dataframe tbody tr th:only-of-type {\n",
       "        vertical-align: middle;\n",
       "    }\n",
       "\n",
       "    .dataframe tbody tr th {\n",
       "        vertical-align: top;\n",
       "    }\n",
       "\n",
       "    .dataframe thead th {\n",
       "        text-align: right;\n",
       "    }\n",
       "</style>\n",
       "<table border=\"1\" class=\"dataframe\">\n",
       "  <thead>\n",
       "    <tr style=\"text-align: right;\">\n",
       "      <th></th>\n",
       "      <th>SEXE</th>\n",
       "      <th>TDT</th>\n",
       "      <th>ECG</th>\n",
       "      <th>ANGINE</th>\n",
       "      <th>PENTE</th>\n",
       "    </tr>\n",
       "  </thead>\n",
       "  <tbody>\n",
       "    <tr>\n",
       "      <th>0</th>\n",
       "      <td>homme</td>\n",
       "      <td>AA</td>\n",
       "      <td>Normal</td>\n",
       "      <td>Non</td>\n",
       "      <td>Ascendant</td>\n",
       "    </tr>\n",
       "    <tr>\n",
       "      <th>1</th>\n",
       "      <td>femme</td>\n",
       "      <td>DNA</td>\n",
       "      <td>Normal</td>\n",
       "      <td>Non</td>\n",
       "      <td>Plat</td>\n",
       "    </tr>\n",
       "    <tr>\n",
       "      <th>2</th>\n",
       "      <td>homme</td>\n",
       "      <td>AA</td>\n",
       "      <td>ST</td>\n",
       "      <td>Non</td>\n",
       "      <td>Ascendant</td>\n",
       "    </tr>\n",
       "    <tr>\n",
       "      <th>3</th>\n",
       "      <td>femme</td>\n",
       "      <td>ASY</td>\n",
       "      <td>Normal</td>\n",
       "      <td>Oui</td>\n",
       "      <td>Plat</td>\n",
       "    </tr>\n",
       "    <tr>\n",
       "      <th>4</th>\n",
       "      <td>homme</td>\n",
       "      <td>DNA</td>\n",
       "      <td>Normal</td>\n",
       "      <td>Non</td>\n",
       "      <td>Ascendant</td>\n",
       "    </tr>\n",
       "    <tr>\n",
       "      <th>...</th>\n",
       "      <td>...</td>\n",
       "      <td>...</td>\n",
       "      <td>...</td>\n",
       "      <td>...</td>\n",
       "      <td>...</td>\n",
       "    </tr>\n",
       "    <tr>\n",
       "      <th>913</th>\n",
       "      <td>homme</td>\n",
       "      <td>AT</td>\n",
       "      <td>Normal</td>\n",
       "      <td>Non</td>\n",
       "      <td>Plat</td>\n",
       "    </tr>\n",
       "    <tr>\n",
       "      <th>914</th>\n",
       "      <td>homme</td>\n",
       "      <td>ASY</td>\n",
       "      <td>Normal</td>\n",
       "      <td>Non</td>\n",
       "      <td>Plat</td>\n",
       "    </tr>\n",
       "    <tr>\n",
       "      <th>915</th>\n",
       "      <td>homme</td>\n",
       "      <td>ASY</td>\n",
       "      <td>Normal</td>\n",
       "      <td>Oui</td>\n",
       "      <td>Plat</td>\n",
       "    </tr>\n",
       "    <tr>\n",
       "      <th>916</th>\n",
       "      <td>femme</td>\n",
       "      <td>AA</td>\n",
       "      <td>LVH</td>\n",
       "      <td>Non</td>\n",
       "      <td>Plat</td>\n",
       "    </tr>\n",
       "    <tr>\n",
       "      <th>917</th>\n",
       "      <td>homme</td>\n",
       "      <td>DNA</td>\n",
       "      <td>Normal</td>\n",
       "      <td>Non</td>\n",
       "      <td>Ascendant</td>\n",
       "    </tr>\n",
       "  </tbody>\n",
       "</table>\n",
       "<p>918 rows × 5 columns</p>\n",
       "</div>"
      ],
      "text/plain": [
       "      SEXE  TDT     ECG ANGINE      PENTE\n",
       "0    homme   AA  Normal    Non  Ascendant\n",
       "1    femme  DNA  Normal    Non       Plat\n",
       "2    homme   AA      ST    Non  Ascendant\n",
       "3    femme  ASY  Normal    Oui       Plat\n",
       "4    homme  DNA  Normal    Non  Ascendant\n",
       "..     ...  ...     ...    ...        ...\n",
       "913  homme   AT  Normal    Non       Plat\n",
       "914  homme  ASY  Normal    Non       Plat\n",
       "915  homme  ASY  Normal    Oui       Plat\n",
       "916  femme   AA     LVH    Non       Plat\n",
       "917  homme  DNA  Normal    Non  Ascendant\n",
       "\n",
       "[918 rows x 5 columns]"
      ]
     },
     "execution_count": 199,
     "metadata": {},
     "output_type": "execute_result"
    }
   ],
   "source": [
    "df_quali"
   ]
  },
  {
   "cell_type": "code",
   "execution_count": 241,
   "metadata": {},
   "outputs": [],
   "source": [
    "#Listes des variables qualitatives et quantitives\n",
    "variable_quali = [\"SEXE\",\"TDT\",\"ECG\",\"ANGINE\",\"PENTE\",\"GAJ\",\"CŒUR\"]\n",
    "variable_quanti = [\"AGE\",\"PAR\",\"CHOLESTEROL\",\"FCMAX\",\"DEPRESSION \"]"
   ]
  },
  {
   "cell_type": "code",
   "execution_count": 201,
   "metadata": {},
   "outputs": [],
   "source": [
    "#fonction d'encodage des variables qualitatives\n",
    "def encodage_var_quali(df):\n",
    "    df.ECG.replace({'Normal': 0, 'ST': 1,'LVH':2}, inplace=True)\n",
    "    df.SEXE.replace({'femme': 0, 'homme': 1}, inplace=True)\n",
    "    df.ANGINE.replace({'Oui': 1, 'Non': 0}, inplace=True)\n",
    "    df.TDT.replace({'AT': 0, 'AA': 1,'DNA':2,'ASY':3}, inplace=True)\n",
    "    df.PENTE.replace({'Ascendant': 0,'Plat': 1, 'Descendant': 2}, inplace=True)\n",
    "    return df"
   ]
  },
  {
   "cell_type": "code",
   "execution_count": 202,
   "metadata": {},
   "outputs": [],
   "source": [
    "df_encod =encodage_var_quali(df_copie)"
   ]
  },
  {
   "cell_type": "code",
   "execution_count": 203,
   "metadata": {},
   "outputs": [
    {
     "data": {
      "text/html": [
       "<div>\n",
       "<style scoped>\n",
       "    .dataframe tbody tr th:only-of-type {\n",
       "        vertical-align: middle;\n",
       "    }\n",
       "\n",
       "    .dataframe tbody tr th {\n",
       "        vertical-align: top;\n",
       "    }\n",
       "\n",
       "    .dataframe thead th {\n",
       "        text-align: right;\n",
       "    }\n",
       "</style>\n",
       "<table border=\"1\" class=\"dataframe\">\n",
       "  <thead>\n",
       "    <tr style=\"text-align: right;\">\n",
       "      <th></th>\n",
       "      <th>AGE</th>\n",
       "      <th>SEXE</th>\n",
       "      <th>TDT</th>\n",
       "      <th>PAR</th>\n",
       "      <th>CHOLESTEROL</th>\n",
       "      <th>GAJ</th>\n",
       "      <th>ECG</th>\n",
       "      <th>FCMAX</th>\n",
       "      <th>ANGINE</th>\n",
       "      <th>DEPRESSION</th>\n",
       "      <th>PENTE</th>\n",
       "      <th>CŒUR</th>\n",
       "    </tr>\n",
       "  </thead>\n",
       "  <tbody>\n",
       "    <tr>\n",
       "      <th>0</th>\n",
       "      <td>40</td>\n",
       "      <td>1</td>\n",
       "      <td>1</td>\n",
       "      <td>140</td>\n",
       "      <td>289</td>\n",
       "      <td>0</td>\n",
       "      <td>0</td>\n",
       "      <td>172</td>\n",
       "      <td>0</td>\n",
       "      <td>0.0</td>\n",
       "      <td>0</td>\n",
       "      <td>0</td>\n",
       "    </tr>\n",
       "    <tr>\n",
       "      <th>1</th>\n",
       "      <td>49</td>\n",
       "      <td>0</td>\n",
       "      <td>2</td>\n",
       "      <td>160</td>\n",
       "      <td>180</td>\n",
       "      <td>0</td>\n",
       "      <td>0</td>\n",
       "      <td>156</td>\n",
       "      <td>0</td>\n",
       "      <td>1.0</td>\n",
       "      <td>1</td>\n",
       "      <td>1</td>\n",
       "    </tr>\n",
       "    <tr>\n",
       "      <th>2</th>\n",
       "      <td>37</td>\n",
       "      <td>1</td>\n",
       "      <td>1</td>\n",
       "      <td>130</td>\n",
       "      <td>283</td>\n",
       "      <td>0</td>\n",
       "      <td>1</td>\n",
       "      <td>98</td>\n",
       "      <td>0</td>\n",
       "      <td>0.0</td>\n",
       "      <td>0</td>\n",
       "      <td>0</td>\n",
       "    </tr>\n",
       "    <tr>\n",
       "      <th>3</th>\n",
       "      <td>48</td>\n",
       "      <td>0</td>\n",
       "      <td>3</td>\n",
       "      <td>138</td>\n",
       "      <td>214</td>\n",
       "      <td>0</td>\n",
       "      <td>0</td>\n",
       "      <td>108</td>\n",
       "      <td>1</td>\n",
       "      <td>1.5</td>\n",
       "      <td>1</td>\n",
       "      <td>1</td>\n",
       "    </tr>\n",
       "    <tr>\n",
       "      <th>4</th>\n",
       "      <td>54</td>\n",
       "      <td>1</td>\n",
       "      <td>2</td>\n",
       "      <td>150</td>\n",
       "      <td>195</td>\n",
       "      <td>0</td>\n",
       "      <td>0</td>\n",
       "      <td>122</td>\n",
       "      <td>0</td>\n",
       "      <td>0.0</td>\n",
       "      <td>0</td>\n",
       "      <td>0</td>\n",
       "    </tr>\n",
       "    <tr>\n",
       "      <th>...</th>\n",
       "      <td>...</td>\n",
       "      <td>...</td>\n",
       "      <td>...</td>\n",
       "      <td>...</td>\n",
       "      <td>...</td>\n",
       "      <td>...</td>\n",
       "      <td>...</td>\n",
       "      <td>...</td>\n",
       "      <td>...</td>\n",
       "      <td>...</td>\n",
       "      <td>...</td>\n",
       "      <td>...</td>\n",
       "    </tr>\n",
       "    <tr>\n",
       "      <th>913</th>\n",
       "      <td>45</td>\n",
       "      <td>1</td>\n",
       "      <td>0</td>\n",
       "      <td>110</td>\n",
       "      <td>264</td>\n",
       "      <td>0</td>\n",
       "      <td>0</td>\n",
       "      <td>132</td>\n",
       "      <td>0</td>\n",
       "      <td>1.2</td>\n",
       "      <td>1</td>\n",
       "      <td>1</td>\n",
       "    </tr>\n",
       "    <tr>\n",
       "      <th>914</th>\n",
       "      <td>68</td>\n",
       "      <td>1</td>\n",
       "      <td>3</td>\n",
       "      <td>144</td>\n",
       "      <td>193</td>\n",
       "      <td>1</td>\n",
       "      <td>0</td>\n",
       "      <td>141</td>\n",
       "      <td>0</td>\n",
       "      <td>3.4</td>\n",
       "      <td>1</td>\n",
       "      <td>1</td>\n",
       "    </tr>\n",
       "    <tr>\n",
       "      <th>915</th>\n",
       "      <td>57</td>\n",
       "      <td>1</td>\n",
       "      <td>3</td>\n",
       "      <td>130</td>\n",
       "      <td>131</td>\n",
       "      <td>0</td>\n",
       "      <td>0</td>\n",
       "      <td>115</td>\n",
       "      <td>1</td>\n",
       "      <td>1.2</td>\n",
       "      <td>1</td>\n",
       "      <td>1</td>\n",
       "    </tr>\n",
       "    <tr>\n",
       "      <th>916</th>\n",
       "      <td>57</td>\n",
       "      <td>0</td>\n",
       "      <td>1</td>\n",
       "      <td>130</td>\n",
       "      <td>236</td>\n",
       "      <td>0</td>\n",
       "      <td>2</td>\n",
       "      <td>174</td>\n",
       "      <td>0</td>\n",
       "      <td>0.0</td>\n",
       "      <td>1</td>\n",
       "      <td>1</td>\n",
       "    </tr>\n",
       "    <tr>\n",
       "      <th>917</th>\n",
       "      <td>38</td>\n",
       "      <td>1</td>\n",
       "      <td>2</td>\n",
       "      <td>138</td>\n",
       "      <td>175</td>\n",
       "      <td>0</td>\n",
       "      <td>0</td>\n",
       "      <td>173</td>\n",
       "      <td>0</td>\n",
       "      <td>0.0</td>\n",
       "      <td>0</td>\n",
       "      <td>0</td>\n",
       "    </tr>\n",
       "  </tbody>\n",
       "</table>\n",
       "<p>918 rows × 12 columns</p>\n",
       "</div>"
      ],
      "text/plain": [
       "     AGE  SEXE  TDT  PAR  CHOLESTEROL  GAJ  ECG  FCMAX  ANGINE  DEPRESSION   \\\n",
       "0     40     1    1  140          289    0    0    172       0          0.0   \n",
       "1     49     0    2  160          180    0    0    156       0          1.0   \n",
       "2     37     1    1  130          283    0    1     98       0          0.0   \n",
       "3     48     0    3  138          214    0    0    108       1          1.5   \n",
       "4     54     1    2  150          195    0    0    122       0          0.0   \n",
       "..   ...   ...  ...  ...          ...  ...  ...    ...     ...          ...   \n",
       "913   45     1    0  110          264    0    0    132       0          1.2   \n",
       "914   68     1    3  144          193    1    0    141       0          3.4   \n",
       "915   57     1    3  130          131    0    0    115       1          1.2   \n",
       "916   57     0    1  130          236    0    2    174       0          0.0   \n",
       "917   38     1    2  138          175    0    0    173       0          0.0   \n",
       "\n",
       "     PENTE  CŒUR  \n",
       "0        0     0  \n",
       "1        1     1  \n",
       "2        0     0  \n",
       "3        1     1  \n",
       "4        0     0  \n",
       "..     ...   ...  \n",
       "913      1     1  \n",
       "914      1     1  \n",
       "915      1     1  \n",
       "916      1     1  \n",
       "917      0     0  \n",
       "\n",
       "[918 rows x 12 columns]"
      ]
     },
     "execution_count": 203,
     "metadata": {},
     "output_type": "execute_result"
    }
   ],
   "source": [
    "df_encod"
   ]
  },
  {
   "cell_type": "code",
   "execution_count": 204,
   "metadata": {},
   "outputs": [],
   "source": [
    "#Normalisation des variables quantitatives"
   ]
  },
  {
   "cell_type": "code",
   "execution_count": 205,
   "metadata": {},
   "outputs": [],
   "source": [
    "#Normalisation des variables quantitatives\n",
    "for i in variable_quanti:\n",
    "    mean = df_encod[i].mean()\n",
    "    std = df_encod[i].std()\n",
    "    df_encod[i] = df_encod[i].map(lambda x:(x-mean)/std)"
   ]
  },
  {
   "cell_type": "code",
   "execution_count": 206,
   "metadata": {},
   "outputs": [
    {
     "data": {
      "text/html": [
       "<div>\n",
       "<style scoped>\n",
       "    .dataframe tbody tr th:only-of-type {\n",
       "        vertical-align: middle;\n",
       "    }\n",
       "\n",
       "    .dataframe tbody tr th {\n",
       "        vertical-align: top;\n",
       "    }\n",
       "\n",
       "    .dataframe thead th {\n",
       "        text-align: right;\n",
       "    }\n",
       "</style>\n",
       "<table border=\"1\" class=\"dataframe\">\n",
       "  <thead>\n",
       "    <tr style=\"text-align: right;\">\n",
       "      <th></th>\n",
       "      <th>AGE</th>\n",
       "      <th>SEXE</th>\n",
       "      <th>TDT</th>\n",
       "      <th>PAR</th>\n",
       "      <th>CHOLESTEROL</th>\n",
       "      <th>GAJ</th>\n",
       "      <th>ECG</th>\n",
       "      <th>FCMAX</th>\n",
       "      <th>ANGINE</th>\n",
       "      <th>DEPRESSION</th>\n",
       "      <th>PENTE</th>\n",
       "      <th>CŒUR</th>\n",
       "    </tr>\n",
       "  </thead>\n",
       "  <tbody>\n",
       "    <tr>\n",
       "      <th>0</th>\n",
       "      <td>-1.432359</td>\n",
       "      <td>1</td>\n",
       "      <td>1</td>\n",
       "      <td>0.410685</td>\n",
       "      <td>0.824621</td>\n",
       "      <td>0</td>\n",
       "      <td>0</td>\n",
       "      <td>1.382175</td>\n",
       "      <td>0</td>\n",
       "      <td>-0.831979</td>\n",
       "      <td>0</td>\n",
       "      <td>0</td>\n",
       "    </tr>\n",
       "    <tr>\n",
       "      <th>1</th>\n",
       "      <td>-0.478223</td>\n",
       "      <td>0</td>\n",
       "      <td>2</td>\n",
       "      <td>1.490940</td>\n",
       "      <td>-0.171867</td>\n",
       "      <td>0</td>\n",
       "      <td>0</td>\n",
       "      <td>0.753746</td>\n",
       "      <td>0</td>\n",
       "      <td>0.105606</td>\n",
       "      <td>1</td>\n",
       "      <td>1</td>\n",
       "    </tr>\n",
       "    <tr>\n",
       "      <th>2</th>\n",
       "      <td>-1.750404</td>\n",
       "      <td>1</td>\n",
       "      <td>1</td>\n",
       "      <td>-0.129442</td>\n",
       "      <td>0.769768</td>\n",
       "      <td>0</td>\n",
       "      <td>1</td>\n",
       "      <td>-1.524307</td>\n",
       "      <td>0</td>\n",
       "      <td>-0.831979</td>\n",
       "      <td>0</td>\n",
       "      <td>0</td>\n",
       "    </tr>\n",
       "    <tr>\n",
       "      <th>3</th>\n",
       "      <td>-0.584238</td>\n",
       "      <td>0</td>\n",
       "      <td>3</td>\n",
       "      <td>0.302660</td>\n",
       "      <td>0.138964</td>\n",
       "      <td>0</td>\n",
       "      <td>0</td>\n",
       "      <td>-1.131539</td>\n",
       "      <td>1</td>\n",
       "      <td>0.574398</td>\n",
       "      <td>1</td>\n",
       "      <td>1</td>\n",
       "    </tr>\n",
       "    <tr>\n",
       "      <th>4</th>\n",
       "      <td>0.051853</td>\n",
       "      <td>1</td>\n",
       "      <td>2</td>\n",
       "      <td>0.950812</td>\n",
       "      <td>-0.034736</td>\n",
       "      <td>0</td>\n",
       "      <td>0</td>\n",
       "      <td>-0.581664</td>\n",
       "      <td>0</td>\n",
       "      <td>-0.831979</td>\n",
       "      <td>0</td>\n",
       "      <td>0</td>\n",
       "    </tr>\n",
       "  </tbody>\n",
       "</table>\n",
       "</div>"
      ],
      "text/plain": [
       "        AGE  SEXE  TDT       PAR  CHOLESTEROL  GAJ  ECG     FCMAX  ANGINE  \\\n",
       "0 -1.432359     1    1  0.410685     0.824621    0    0  1.382175       0   \n",
       "1 -0.478223     0    2  1.490940    -0.171867    0    0  0.753746       0   \n",
       "2 -1.750404     1    1 -0.129442     0.769768    0    1 -1.524307       0   \n",
       "3 -0.584238     0    3  0.302660     0.138964    0    0 -1.131539       1   \n",
       "4  0.051853     1    2  0.950812    -0.034736    0    0 -0.581664       0   \n",
       "\n",
       "   DEPRESSION   PENTE  CŒUR  \n",
       "0    -0.831979      0     0  \n",
       "1     0.105606      1     1  \n",
       "2    -0.831979      0     0  \n",
       "3     0.574398      1     1  \n",
       "4    -0.831979      0     0  "
      ]
     },
     "execution_count": 206,
     "metadata": {},
     "output_type": "execute_result"
    }
   ],
   "source": [
    "#data set encodé et normalisé\n",
    "df_encod.head()"
   ]
  },
  {
   "cell_type": "code",
   "execution_count": null,
   "metadata": {},
   "outputs": [],
   "source": []
  },
  {
   "cell_type": "code",
   "execution_count": 207,
   "metadata": {},
   "outputs": [],
   "source": [
    "#Selection des variables les plus qui ont plus d'afluence sur la variable CŒUR"
   ]
  },
  {
   "cell_type": "code",
   "execution_count": 208,
   "metadata": {},
   "outputs": [
    {
     "name": "stdout",
     "output_type": "stream",
     "text": [
      "[0.07188944 0.05096982 0.12736216 0.0681613  0.09148991 0.04633882\n",
      " 0.03630513 0.08531912 0.13368744 0.0875819  0.20089496]\n"
     ]
    },
    {
     "data": {
      "image/png": "[encoded data removed]",
      "text/plain": [
       "<Figure size 1080x432 with 1 Axes>"
      ]
     },
     "metadata": {},
     "output_type": "display_data"
    }
   ],
   "source": [
    "plt.rcParams['figure.figsize']=15,6 \n",
    "sns.set_style(\"darkgrid\")\n",
    "print(model.feature_importances_) \n",
    "feat_importances = pd.Series(model.feature_importances_, index=x.columns)\n",
    "feat_importances.nlargest(11).plot(kind='barh')\n",
    "plt.title('Réprésentation des variables qui ont plus d\\'afluence sur la variable CŒUR')\n",
    "plt.show()"
   ]
  },
  {
   "cell_type": "raw",
   "metadata": {},
   "source": [
    "Nous allons pour un premier temps utiliser toutes les variables pour la construction du model"
   ]
  },
  {
   "cell_type": "code",
   "execution_count": null,
   "metadata": {},
   "outputs": [],
   "source": []
  },
  {
   "cell_type": "code",
   "execution_count": 213,
   "metadata": {},
   "outputs": [],
   "source": [
    "X = df_encod.drop('CŒUR',axis=1)\n",
    "y = df_encod.CŒUR"
   ]
  },
  {
   "cell_type": "code",
   "execution_count": 216,
   "metadata": {},
   "outputs": [],
   "source": [
    "#Diviser le dataset en trainset et testset"
   ]
  },
  {
   "cell_type": "code",
   "execution_count": 210,
   "metadata": {},
   "outputs": [],
   "source": [
    "from sklearn.model_selection import train_test_split"
   ]
  },
  {
   "cell_type": "code",
   "execution_count": 214,
   "metadata": {},
   "outputs": [],
   "source": [
    "X_train, X_test, y_train, y_test = train_test_split(X, y, random_state= 50)"
   ]
  },
  {
   "cell_type": "code",
   "execution_count": 215,
   "metadata": {},
   "outputs": [
    {
     "data": {
      "text/html": [
       "<div>\n",
       "<style scoped>\n",
       "    .dataframe tbody tr th:only-of-type {\n",
       "        vertical-align: middle;\n",
       "    }\n",
       "\n",
       "    .dataframe tbody tr th {\n",
       "        vertical-align: top;\n",
       "    }\n",
       "\n",
       "    .dataframe thead th {\n",
       "        text-align: right;\n",
       "    }\n",
       "</style>\n",
       "<table border=\"1\" class=\"dataframe\">\n",
       "  <thead>\n",
       "    <tr style=\"text-align: right;\">\n",
       "      <th></th>\n",
       "      <th>AGE</th>\n",
       "      <th>SEXE</th>\n",
       "      <th>TDT</th>\n",
       "      <th>PAR</th>\n",
       "      <th>CHOLESTEROL</th>\n",
       "      <th>GAJ</th>\n",
       "      <th>ECG</th>\n",
       "      <th>FCMAX</th>\n",
       "      <th>ANGINE</th>\n",
       "      <th>DEPRESSION</th>\n",
       "      <th>PENTE</th>\n",
       "    </tr>\n",
       "  </thead>\n",
       "  <tbody>\n",
       "    <tr>\n",
       "      <th>686</th>\n",
       "      <td>0.369898</td>\n",
       "      <td>0</td>\n",
       "      <td>3</td>\n",
       "      <td>-0.669570</td>\n",
       "      <td>1.418857</td>\n",
       "      <td>0</td>\n",
       "      <td>0</td>\n",
       "      <td>1.028684</td>\n",
       "      <td>1</td>\n",
       "      <td>-0.269428</td>\n",
       "      <td>0</td>\n",
       "    </tr>\n",
       "    <tr>\n",
       "      <th>468</th>\n",
       "      <td>0.899974</td>\n",
       "      <td>1</td>\n",
       "      <td>3</td>\n",
       "      <td>1.058838</td>\n",
       "      <td>-0.418704</td>\n",
       "      <td>0</td>\n",
       "      <td>1</td>\n",
       "      <td>-1.563584</td>\n",
       "      <td>1</td>\n",
       "      <td>0.668157</td>\n",
       "      <td>0</td>\n",
       "    </tr>\n",
       "    <tr>\n",
       "      <th>455</th>\n",
       "      <td>0.581928</td>\n",
       "      <td>1</td>\n",
       "      <td>3</td>\n",
       "      <td>1.166863</td>\n",
       "      <td>-1.817444</td>\n",
       "      <td>0</td>\n",
       "      <td>1</td>\n",
       "      <td>-0.228173</td>\n",
       "      <td>1</td>\n",
       "      <td>0.574398</td>\n",
       "      <td>0</td>\n",
       "    </tr>\n",
       "    <tr>\n",
       "      <th>917</th>\n",
       "      <td>-1.644389</td>\n",
       "      <td>1</td>\n",
       "      <td>2</td>\n",
       "      <td>0.302660</td>\n",
       "      <td>-0.217578</td>\n",
       "      <td>0</td>\n",
       "      <td>0</td>\n",
       "      <td>1.421452</td>\n",
       "      <td>0</td>\n",
       "      <td>-0.831979</td>\n",
       "      <td>0</td>\n",
       "    </tr>\n",
       "    <tr>\n",
       "      <th>524</th>\n",
       "      <td>0.157868</td>\n",
       "      <td>1</td>\n",
       "      <td>3</td>\n",
       "      <td>0.950812</td>\n",
       "      <td>-0.354709</td>\n",
       "      <td>0</td>\n",
       "      <td>1</td>\n",
       "      <td>0.518086</td>\n",
       "      <td>0</td>\n",
       "      <td>-0.831979</td>\n",
       "      <td>0</td>\n",
       "    </tr>\n",
       "    <tr>\n",
       "      <th>...</th>\n",
       "      <td>...</td>\n",
       "      <td>...</td>\n",
       "      <td>...</td>\n",
       "      <td>...</td>\n",
       "      <td>...</td>\n",
       "      <td>...</td>\n",
       "      <td>...</td>\n",
       "      <td>...</td>\n",
       "      <td>...</td>\n",
       "      <td>...</td>\n",
       "      <td>...</td>\n",
       "    </tr>\n",
       "    <tr>\n",
       "      <th>289</th>\n",
       "      <td>-1.856420</td>\n",
       "      <td>1</td>\n",
       "      <td>1</td>\n",
       "      <td>-0.669570</td>\n",
       "      <td>-0.299857</td>\n",
       "      <td>0</td>\n",
       "      <td>0</td>\n",
       "      <td>1.696389</td>\n",
       "      <td>0</td>\n",
       "      <td>-0.831979</td>\n",
       "      <td>0</td>\n",
       "    </tr>\n",
       "    <tr>\n",
       "      <th>109</th>\n",
       "      <td>-1.538374</td>\n",
       "      <td>1</td>\n",
       "      <td>1</td>\n",
       "      <td>3.111322</td>\n",
       "      <td>0.385800</td>\n",
       "      <td>0</td>\n",
       "      <td>0</td>\n",
       "      <td>-1.210093</td>\n",
       "      <td>0</td>\n",
       "      <td>-0.831979</td>\n",
       "      <td>0</td>\n",
       "    </tr>\n",
       "    <tr>\n",
       "      <th>907</th>\n",
       "      <td>-1.008299</td>\n",
       "      <td>1</td>\n",
       "      <td>3</td>\n",
       "      <td>-0.669570</td>\n",
       "      <td>-0.272430</td>\n",
       "      <td>0</td>\n",
       "      <td>0</td>\n",
       "      <td>0.282425</td>\n",
       "      <td>1</td>\n",
       "      <td>1.793259</td>\n",
       "      <td>2</td>\n",
       "    </tr>\n",
       "    <tr>\n",
       "      <th>480</th>\n",
       "      <td>0.475913</td>\n",
       "      <td>1</td>\n",
       "      <td>1</td>\n",
       "      <td>-0.345493</td>\n",
       "      <td>-1.817444</td>\n",
       "      <td>1</td>\n",
       "      <td>0</td>\n",
       "      <td>-1.052986</td>\n",
       "      <td>1</td>\n",
       "      <td>1.043191</td>\n",
       "      <td>1</td>\n",
       "    </tr>\n",
       "    <tr>\n",
       "      <th>688</th>\n",
       "      <td>2.384185</td>\n",
       "      <td>0</td>\n",
       "      <td>2</td>\n",
       "      <td>0.410685</td>\n",
       "      <td>-0.016452</td>\n",
       "      <td>0</td>\n",
       "      <td>1</td>\n",
       "      <td>-0.817325</td>\n",
       "      <td>0</td>\n",
       "      <td>0.199364</td>\n",
       "      <td>1</td>\n",
       "    </tr>\n",
       "  </tbody>\n",
       "</table>\n",
       "<p>688 rows × 11 columns</p>\n",
       "</div>"
      ],
      "text/plain": [
       "          AGE  SEXE  TDT       PAR  CHOLESTEROL  GAJ  ECG     FCMAX  ANGINE  \\\n",
       "686  0.369898     0    3 -0.669570     1.418857    0    0  1.028684       1   \n",
       "468  0.899974     1    3  1.058838    -0.418704    0    1 -1.563584       1   \n",
       "455  0.581928     1    3  1.166863    -1.817444    0    1 -0.228173       1   \n",
       "917 -1.644389     1    2  0.302660    -0.217578    0    0  1.421452       0   \n",
       "524  0.157868     1    3  0.950812    -0.354709    0    1  0.518086       0   \n",
       "..        ...   ...  ...       ...          ...  ...  ...       ...     ...   \n",
       "289 -1.856420     1    1 -0.669570    -0.299857    0    0  1.696389       0   \n",
       "109 -1.538374     1    1  3.111322     0.385800    0    0 -1.210093       0   \n",
       "907 -1.008299     1    3 -0.669570    -0.272430    0    0  0.282425       1   \n",
       "480  0.475913     1    1 -0.345493    -1.817444    1    0 -1.052986       1   \n",
       "688  2.384185     0    2  0.410685    -0.016452    0    1 -0.817325       0   \n",
       "\n",
       "     DEPRESSION   PENTE  \n",
       "686    -0.269428      0  \n",
       "468     0.668157      0  \n",
       "455     0.574398      0  \n",
       "917    -0.831979      0  \n",
       "524    -0.831979      0  \n",
       "..           ...    ...  \n",
       "289    -0.831979      0  \n",
       "109    -0.831979      0  \n",
       "907     1.793259      2  \n",
       "480     1.043191      1  \n",
       "688     0.199364      1  \n",
       "\n",
       "[688 rows x 11 columns]"
      ]
     },
     "execution_count": 215,
     "metadata": {},
     "output_type": "execute_result"
    }
   ],
   "source": [
    "X_train"
   ]
  },
  {
   "cell_type": "markdown",
   "metadata": {},
   "source": [
    "# Construction des models"
   ]
  },
  {
   "cell_type": "markdown",
   "metadata": {},
   "source": [
    "# Régression logistique"
   ]
  },
  {
   "cell_type": "code",
   "execution_count": 217,
   "metadata": {},
   "outputs": [],
   "source": [
    "from sklearn.metrics import classification_report"
   ]
  },
  {
   "cell_type": "code",
   "execution_count": 218,
   "metadata": {},
   "outputs": [
    {
     "name": "stdout",
     "output_type": "stream",
     "text": [
      "0.8546511627906976\n",
      "0.8608695652173913\n"
     ]
    }
   ],
   "source": [
    "# Construction du modèle\n",
    "classifier = LogisticRegression(random_state = 0, solver='liblinear')\n",
    "classifier.fit(X_train, y_train)\n",
    "y_pred = classifier.predict(X_test)\n",
    "score_train = classifier.score(X_train,y_train)\n",
    "score_test = classifier.score(X_test,y_test)\n",
    "\n",
    "print(score_train)\n",
    "print(score_test)"
   ]
  },
  {
   "cell_type": "code",
   "execution_count": null,
   "metadata": {},
   "outputs": [],
   "source": []
  },
  {
   "cell_type": "code",
   "execution_count": 225,
   "metadata": {},
   "outputs": [],
   "source": [
    "from sklearn.linear_model import LogisticRegression\n",
    "from sklearn.metrics import confusion_matrix\n",
    "from sklearn.metrics import classification_report\n",
    "# Partage du data_set en train et test:\n",
    "from sklearn.model_selection import learning_curve\n",
    "from sklearn.tree import DecisionTreeClassifier"
   ]
  },
  {
   "cell_type": "code",
   "execution_count": 222,
   "metadata": {},
   "outputs": [],
   "source": [
    "# model_logistique.fit(X_train,y_train)\n",
    "def evaluation_losiqtique(classifier):\n",
    "    y_pred = classifier.predict(X_test)\n",
    "    print(confusion_matrix(y_test, y_pred))\n",
    "    print(classification_report(y_test, y_pred))\n",
    "    \n",
    "    N, train_score, val_score = learning_curve(classifier, X_train, y_train, cv=4,scoring = 'f1', train_sizes = np.linspace(0.1, 1 , 10))\n",
    "    \n",
    "    plt.figure(figsize=(12,8))\n",
    "    plt.plot(N, train_score.mean(axis=1), label= 'train score')\n",
    "    plt.plot(N, val_score.mean(axis=1), label= 'validation score')\n",
    "    plt.legend()"
   ]
  },
  {
   "cell_type": "code",
   "execution_count": 223,
   "metadata": {},
   "outputs": [
    {
     "name": "stdout",
     "output_type": "stream",
     "text": [
      "[[ 91  18]\n",
      " [ 14 107]]\n",
      "              precision    recall  f1-score   support\n",
      "\n",
      "           0       0.87      0.83      0.85       109\n",
      "           1       0.86      0.88      0.87       121\n",
      "\n",
      "    accuracy                           0.86       230\n",
      "   macro avg       0.86      0.86      0.86       230\n",
      "weighted avg       0.86      0.86      0.86       230\n",
      "\n"
     ]
    },
    {
     "data": {
      "image/png": "[encoded data removed]",
      "text/plain": [
       "<Figure size 864x576 with 1 Axes>"
      ]
     },
     "metadata": {},
     "output_type": "display_data"
    }
   ],
   "source": [
    "evaluation_losiqtique(classifier)"
   ]
  },
  {
   "cell_type": "markdown",
   "metadata": {},
   "source": [
    "# Arbre de décision "
   ]
  },
  {
   "cell_type": "code",
   "execution_count": 226,
   "metadata": {},
   "outputs": [
    {
     "data": {
      "text/plain": [
       "DecisionTreeClassifier(random_state=0)"
      ]
     },
     "execution_count": 226,
     "metadata": {},
     "output_type": "execute_result"
    }
   ],
   "source": [
    "model = DecisionTreeClassifier(random_state=0)\n",
    "model"
   ]
  },
  {
   "cell_type": "code",
   "execution_count": 227,
   "metadata": {},
   "outputs": [],
   "source": [
    "def evaluation(model):\n",
    "    model.fit(X_train,y_train)\n",
    "    y_pred = model.predict(X_test)\n",
    "    print(confusion_matrix(y_test, y_pred))\n",
    "    print(classification_report(y_test, y_pred))\n",
    "#     \n",
    "    N, train_score, val_score = learning_curve(model, X_train, y_train, cv=4,scoring = 'f1', train_sizes = np.linspace(0.1, 1 , 10))\n",
    "    \n",
    "    plt.figure(figsize=(12,8))\n",
    "    plt.plot(N, train_score.mean(axis=1), label= 'train score')\n",
    "    plt.plot(N, val_score.mean(axis=1), label= 'validation score')\n",
    "    plt.legend()"
   ]
  },
  {
   "cell_type": "code",
   "execution_count": 228,
   "metadata": {},
   "outputs": [
    {
     "name": "stdout",
     "output_type": "stream",
     "text": [
      "[[85 24]\n",
      " [25 96]]\n",
      "              precision    recall  f1-score   support\n",
      "\n",
      "           0       0.77      0.78      0.78       109\n",
      "           1       0.80      0.79      0.80       121\n",
      "\n",
      "    accuracy                           0.79       230\n",
      "   macro avg       0.79      0.79      0.79       230\n",
      "weighted avg       0.79      0.79      0.79       230\n",
      "\n"
     ]
    },
    {
     "data": {
      "image/png": "[encoded data removed]",
      "text/plain": [
       "<Figure size 864x576 with 1 Axes>"
      ]
     },
     "metadata": {},
     "output_type": "display_data"
    }
   ],
   "source": [
    "evaluation(model)"
   ]
  },
  {
   "cell_type": "markdown",
   "metadata": {},
   "source": [
    "# KNK"
   ]
  },
  {
   "cell_type": "code",
   "execution_count": 229,
   "metadata": {},
   "outputs": [],
   "source": [
    "from sklearn.neighbors import KNeighborsClassifier"
   ]
  },
  {
   "cell_type": "code",
   "execution_count": 231,
   "metadata": {},
   "outputs": [],
   "source": [
    "model_knn = KNeighborsClassifier()"
   ]
  },
  {
   "cell_type": "code",
   "execution_count": 232,
   "metadata": {},
   "outputs": [
    {
     "data": {
      "text/plain": [
       "0.873546511627907"
      ]
     },
     "execution_count": 232,
     "metadata": {},
     "output_type": "execute_result"
    }
   ],
   "source": [
    "model_knn.fit(X_train, y_train)\n",
    "model_knn.score(X_train, y_train)"
   ]
  },
  {
   "cell_type": "code",
   "execution_count": 233,
   "metadata": {},
   "outputs": [
    {
     "data": {
      "text/plain": [
       "0.8347826086956521"
      ]
     },
     "execution_count": 233,
     "metadata": {},
     "output_type": "execute_result"
    }
   ],
   "source": [
    "model_knn.score(X_test, y_test)"
   ]
  },
  {
   "cell_type": "code",
   "execution_count": 234,
   "metadata": {},
   "outputs": [],
   "source": [
    "#fonction d'évaluation du model\n",
    "def evaluation_knn(model_knn):\n",
    "    model_knn.fit(X_train,y_train)\n",
    "    y_pred = model_knn.predict(X_test)\n",
    "    print(confusion_matrix(y_test, y_pred))\n",
    "    print(classification_report(y_test, y_pred))\n",
    "    \n",
    "    N, train_score, val_score = learning_curve(model_knn, X_train, y_train, cv=4,scoring = 'f1', train_sizes = np.linspace(0.1, 1 , 10))\n",
    "    \n",
    "    plt.figure(figsize=(12,8))\n",
    "    plt.plot(N, train_score.mean(axis=1), label= 'train score')\n",
    "    plt.plot(N, val_score.mean(axis=1), label= 'validation score')\n",
    "    plt.legend()"
   ]
  },
  {
   "cell_type": "code",
   "execution_count": 235,
   "metadata": {},
   "outputs": [
    {
     "name": "stdout",
     "output_type": "stream",
     "text": [
      "[[ 91  18]\n",
      " [ 20 101]]\n",
      "              precision    recall  f1-score   support\n",
      "\n",
      "           0       0.82      0.83      0.83       109\n",
      "           1       0.85      0.83      0.84       121\n",
      "\n",
      "    accuracy                           0.83       230\n",
      "   macro avg       0.83      0.83      0.83       230\n",
      "weighted avg       0.84      0.83      0.83       230\n",
      "\n"
     ]
    },
    {
     "data": {
      "image/png": "[encoded data removed]",
      "text/plain": [
       "<Figure size 864x576 with 1 Axes>"
      ]
     },
     "metadata": {},
     "output_type": "display_data"
    }
   ],
   "source": [
    "evaluation_knn(model_knn)"
   ]
  },
  {
   "cell_type": "markdown",
   "metadata": {},
   "source": [
    "# Boosting"
   ]
  },
  {
   "cell_type": "code",
   "execution_count": 236,
   "metadata": {},
   "outputs": [],
   "source": [
    "from sklearn.ensemble import GradientBoostingClassifier"
   ]
  },
  {
   "cell_type": "code",
   "execution_count": 237,
   "metadata": {},
   "outputs": [
    {
     "data": {
      "text/plain": [
       "GradientBoostingClassifier(max_depth=10, n_estimators=40, random_state=20)"
      ]
     },
     "execution_count": 237,
     "metadata": {},
     "output_type": "execute_result"
    }
   ],
   "source": [
    "model_boost = GradientBoostingClassifier(n_estimators=40,max_depth=10,random_state=20) \n",
    "model_boost.fit(X_train, y_train)"
   ]
  },
  {
   "cell_type": "code",
   "execution_count": 238,
   "metadata": {},
   "outputs": [
    {
     "name": "stdout",
     "output_type": "stream",
     "text": [
      "1.0\n",
      "0.7956521739130434\n"
     ]
    }
   ],
   "source": [
    "#score des model\n",
    "print(model_boost.score(X_train, y_train))\n",
    "print(model_boost.score(X_test, y_test))"
   ]
  },
  {
   "cell_type": "code",
   "execution_count": 239,
   "metadata": {},
   "outputs": [],
   "source": [
    "#fonction d'évaluation du model\n",
    "def evaluation_boost(model_boost):\n",
    "    model_boost.fit(X_train,y_train)\n",
    "    y_pred = model_boost.predict(X_test)\n",
    "    print(confusion_matrix(y_test, y_pred))\n",
    "    print(classification_report(y_test, y_pred))\n",
    "    \n",
    "    N, train_score, val_score = learning_curve(model_boost, X_train, y_train, cv=4,scoring = 'f1', train_sizes = np.linspace(0.1, 1 , 10))\n",
    "    \n",
    "    plt.figure(figsize=(12,8))\n",
    "    plt.plot(N, train_score.mean(axis=1), label= 'train score')\n",
    "    plt.plot(N, val_score.mean(axis=1), label= 'validation score')\n",
    "    plt.legend()"
   ]
  },
  {
   "cell_type": "code",
   "execution_count": 240,
   "metadata": {},
   "outputs": [
    {
     "name": "stdout",
     "output_type": "stream",
     "text": [
      "[[84 25]\n",
      " [22 99]]\n",
      "              precision    recall  f1-score   support\n",
      "\n",
      "           0       0.79      0.77      0.78       109\n",
      "           1       0.80      0.82      0.81       121\n",
      "\n",
      "    accuracy                           0.80       230\n",
      "   macro avg       0.80      0.79      0.79       230\n",
      "weighted avg       0.80      0.80      0.80       230\n",
      "\n"
     ]
    },
    {
     "data": {
      "image/png": "[encoded data removed]",
      "text/plain": [
       "<Figure size 864x576 with 1 Axes>"
      ]
     },
     "metadata": {},
     "output_type": "display_data"
    }
   ],
   "source": [
    "evaluation_boost(model_boost)"
   ]
  }
 ],
 "metadata": {
  "kernelspec": {
   "display_name": "Python 3",
   "language": "python",
   "name": "python3"
  },
  "language_info": {
   "codemirror_mode": {
    "name": "ipython",
    "version": 3
   },
   "file_extension": ".py",
   "mimetype": "text/x-python",
   "name": "python",
   "nbconvert_exporter": "python",
   "pygments_lexer": "ipython3",
   "version": "3.8.5"
  }
 },
 "nbformat": 4,
 "nbformat_minor": 4
}
